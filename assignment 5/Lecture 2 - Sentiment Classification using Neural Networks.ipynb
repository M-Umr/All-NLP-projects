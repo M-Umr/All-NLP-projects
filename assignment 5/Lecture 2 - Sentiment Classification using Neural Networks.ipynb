{
 "cells": [
  {
   "cell_type": "markdown",
   "metadata": {},
   "source": [
    "# Import required dependencies"
   ]
  },
  {
   "cell_type": "code",
   "execution_count": 3,
   "metadata": {},
   "outputs": [],
   "source": [
    "import keras\n",
    "from keras.models import Sequential\n",
    "from keras.layers import Dense, Softmax, Dropout\n",
    "from keras import backend as K\n",
    "from keras.utils import to_categorical\n",
    "from keras.preprocessing.sequence import pad_sequences\n",
    "from keras import regularizers\n",
    "\n",
    "import numpy as np\n",
    "import numpy.random as random\n",
    "from nltk.tokenize import word_tokenize\n",
    "\n",
    "import matplotlib.pyplot as plt\n",
    "from sklearn.metrics import confusion_matrix\n",
    "from sklearn.utils import class_weight\n",
    "\n",
    "%matplotlib inline"
   ]
  },
  {
   "cell_type": "markdown",
   "metadata": {},
   "source": [
    "# Define constants\n",
    "It is usually a good idea to have common constants defined up top, so we can easily change them as needed"
   ]
  },
  {
   "cell_type": "code",
   "execution_count": 4,
   "metadata": {},
   "outputs": [],
   "source": [
    "UNK_TOKEN = '__unk__'\n",
    "MAX_SEQUENCE_LENGTH = 50\n",
    "VOCAB_SIZE = 15000"
   ]
  },
  {
   "cell_type": "markdown",
   "metadata": {},
   "source": [
    "# Read data"
   ]
  },
  {
   "cell_type": "code",
   "execution_count": 5,
   "metadata": {},
   "outputs": [
    {
     "name": "stdout",
     "output_type": "stream",
     "text": [
      "Read 40000 lines\n"
     ]
    }
   ],
   "source": [
    "import csv\n",
    "\n",
    "emotions = {\n",
    "\t\"anger\":0,\n",
    "\t\"boredom\":1,\n",
    "\t\"empty\":2,\n",
    "\t\"enthusiasm\":3,\n",
    "\t\"fun\":4,\n",
    "\t\"happiness\":5,\n",
    "\t\"hate\":6,\n",
    "\t\"love\":7,\n",
    "\t\"neutral\":8,\n",
    "\t\"relief\":9,\n",
    "\t\"sadness\":10,\n",
    "\t\"surprise\":11,\n",
    "\t\"worry\": 12\n",
    "}\n",
    "\n",
    "emotions_stats = {k: 0 for k in emotions}\n",
    "data_lines = []\n",
    "num_classes = len(emotions)\n",
    "with open('data/sentiment/text_emotion.csv', newline='') as f:\n",
    "    reader = csv.reader(f)\n",
    "    for row_idx, row in enumerate(reader):\n",
    "        # Ignore first row since its a header row in the dataset\n",
    "        if row_idx == 0: continue\n",
    "            \n",
    "        # Append a tuple of (emotion_index, text)\n",
    "        if row[1] in emotions:\n",
    "            data_lines.append((emotions[row[1]],row[3]))\n",
    "            emotions_stats[row[1]] += 1\n",
    "print(\"Read %d lines\"%(len(data_lines)))"
   ]
  },
  {
   "cell_type": "markdown",
   "metadata": {},
   "source": [
    "## Train/Dev/Test splits\n",
    "To see if our model actually learns, we divide all of the data into these three splits (70-10-20 split for train-dev-test)"
   ]
  },
  {
   "cell_type": "code",
   "execution_count": 6,
   "metadata": {},
   "outputs": [],
   "source": [
    "# Send random seed for reproducible results\n",
    "random.seed(5)\n",
    "random.shuffle(data_lines)\n",
    "\n",
    "total_instances = len(data_lines)\n",
    "num_train_instances = int(0.7 * total_instances)\n",
    "num_dev_instances = int(0.1 * total_instances)\n",
    "num_test_instances = int(0.2 * total_instances)\n",
    "\n",
    "train = data_lines[:num_train_instances]\n",
    "dev = data_lines[num_train_instances:num_train_instances + num_dev_instances]\n",
    "test = data_lines[num_train_instances + num_dev_instances:num_train_instances + num_dev_instances + num_test_instances]"
   ]
  },
  {
   "cell_type": "markdown",
   "metadata": {},
   "source": [
    "## Preprocessing "
   ]
  },
  {
   "cell_type": "code",
   "execution_count": 7,
   "metadata": {},
   "outputs": [
    {
     "name": "stdout",
     "output_type": "stream",
     "text": [
      "[8, 3, 12, 4, 12, 8, 6, 12, 8, 12]\n",
      "[\"@psymon_spark heheh.  Odd though, I thought a couple of the others I'd done were better\", \"@jstueve Oh LOL! Yes, on Facebook! That's a nice safe environment. Like a church basement!\", 'throat is reallyyyyy sore , i can barely talk', \"@CeeCeeJayez episode 17 season 1, i love chuck bass.  who's going to the short stack filming next sat? Im making a flag. ;D\", \"Decided not to go...I want to see my sweetie  But I can't.\", '@DJ71 they are all over one is a fan with a vip and the other one is the winner of the twisted vid  het si weer eens raar gelopen, chaos', 'IS ANYONE AWAKE?!?!?!?! oh my god i am dying here. i want to go to SLEEEEEEEEEEEEEEEEEEEEEEEEEEEEEEEEEEEEEEEEEEEEEEEEEEEEEEEEEEEP. :[', 'I am trying to upload my background from twitbacks. its not working', 'Just learned aobut #starwarsday. Thus: &quot;There are only 3 movies and Han Solo shot first&quot;. Deal with it', 'Cat is anxiously watching wild turkeys in my back yard....I think they have their eyes on my bunny rabbit']\n"
     ]
    }
   ],
   "source": [
    "# Separate out labels and data\n",
    "def get_data_labels(lines):\n",
    "    labels, data = [], []\n",
    "    for line in lines:\n",
    "        l, d = line\n",
    "        labels.append(int(l))\n",
    "        data.append(d)\n",
    "    \n",
    "    return labels, data\n",
    "\n",
    "train_labels, train_data = get_data_labels(train)\n",
    "dev_labels, dev_data = get_data_labels(dev)\n",
    "test_labels, test_data = get_data_labels(test)\n",
    "print(train_labels[:10])\n",
    "print(train_data[:10])"
   ]
  },
  {
   "cell_type": "code",
   "execution_count": 8,
   "metadata": {},
   "outputs": [
    {
     "name": "stdout",
     "output_type": "stream",
     "text": [
      "[['@', 'psymon_spark', 'heheh', '.', 'odd', 'though', ',', 'i', 'thought', 'a', 'couple', 'of', 'the', 'others', 'i', \"'d\", 'done', 'were', 'better'], ['@', 'jstueve', 'oh', 'lol', '!', 'yes', ',', 'on', 'facebook', '!', 'that', \"'s\", 'a', 'nice', 'safe', 'environment', '.', 'like', 'a', 'church', 'basement', '!'], ['throat', 'is', 'reallyyyyy', 'sore', ',', 'i', 'can', 'barely', 'talk'], ['@', 'ceeceejayez', 'episode', '17', 'season', '1', ',', 'i', 'love', 'chuck', 'bass', '.', 'who', \"'s\", 'going', 'to', 'the', 'short', 'stack', 'filming', 'next', 'sat', '?', 'im', 'making', 'a', 'flag', '.', ';', 'd'], ['decided', 'not', 'to', 'go', '...', 'i', 'want', 'to', 'see', 'my', 'sweetie', 'but', 'i', 'ca', \"n't\", '.'], ['@', 'dj71', 'they', 'are', 'all', 'over', 'one', 'is', 'a', 'fan', 'with', 'a', 'vip', 'and', 'the', 'other', 'one', 'is', 'the', 'winner', 'of', 'the', 'twisted', 'vid', 'het', 'si', 'weer', 'eens', 'raar', 'gelopen', ',', 'chaos'], ['is', 'anyone', 'awake', '?', '!', '?', '!', '?', '!', '?', '!', 'oh', 'my', 'god', 'i', 'am', 'dying', 'here', '.', 'i', 'want', 'to', 'go', 'to', 'sleeeeeeeeeeeeeeeeeeeeeeeeeeeeeeeeeeeeeeeeeeeeeeeeeeeeeeeeeeep', '.', ':', '['], ['i', 'am', 'trying', 'to', 'upload', 'my', 'background', 'from', 'twitbacks', '.', 'its', 'not', 'working'], ['just', 'learned', 'aobut', '#', 'starwarsday', '.', 'thus', ':', '&', 'quot', ';', 'there', 'are', 'only', '3', 'movies', 'and', 'han', 'solo', 'shot', 'first', '&', 'quot', ';', '.', 'deal', 'with', 'it'], ['cat', 'is', 'anxiously', 'watching', 'wild', 'turkeys', 'in', 'my', 'back', 'yard', '...', '.i', 'think', 'they', 'have', 'their', 'eyes', 'on', 'my', 'bunny', 'rabbit']]\n"
     ]
    }
   ],
   "source": [
    "# Preprocess data\n",
    "def preprocess(data):\n",
    "    # Tokenize (separate by space, punctuation etc) and lowercase all data\n",
    "    return [word_tokenize(t.lower()) for t in data]\n",
    "\n",
    "train_data = preprocess(train_data)\n",
    "dev_data = preprocess(dev_data)\n",
    "test_data = preprocess(test_data)\n",
    "print(train_data[:10])"
   ]
  },
  {
   "cell_type": "markdown",
   "metadata": {},
   "source": [
    "## Create vocabulary"
   ]
  },
  {
   "cell_type": "code",
   "execution_count": 9,
   "metadata": {},
   "outputs": [
    {
     "name": "stdout",
     "output_type": "stream",
     "text": [
      "Vocabulary size: 40857\n",
      "Most frequent tokens\n",
      "\ti: 16568\n",
      "\t!: 15425\n",
      "\t.: 14265\n",
      "\t@: 14210\n",
      "\tto: 9997\n",
      "\tthe: 9006\n",
      "\t,: 8445\n",
      "\ta: 6818\n",
      "\tmy: 5569\n",
      "\tyou: 5395\n",
      "Least frequent tokens\n",
      "\tbruceocz: 1\n",
      "\tdavidbaillie: 1\n",
      "\thard..: 1\n",
      "\tcute..oh: 1\n",
      "\ttiaratara123: 1\n",
      "\tdaniels: 1\n",
      "\tstephenrlee: 1\n",
      "\tinsonmia: 1\n",
      "\tforgottten: 1\n",
      "\texistes: 1\n"
     ]
    }
   ],
   "source": [
    "# Prepare vocabulary\n",
    "full_vocab = dict()\n",
    "for instance in train_data:\n",
    "    for token in instance:\n",
    "        full_vocab[token] = 1 + full_vocab.get(token, 0)\n",
    "\n",
    "# Sort vocabulary by occurence\n",
    "sorted_vocab = sorted(full_vocab.keys(), key=lambda word: -full_vocab[word])\n",
    "\n",
    "# Print some samples\n",
    "print(\"Vocabulary size: %d\"%(len(sorted_vocab)))\n",
    "print(\"Most frequent tokens\")\n",
    "for i in range(10):\n",
    "    print(\"\\t%s: %d\"%(sorted_vocab[i], full_vocab[sorted_vocab[i]]))\n",
    "print(\"Least frequent tokens\")\n",
    "for i in range(1,11):\n",
    "    print(\"\\t%s: %d\"%(sorted_vocab[-i], full_vocab[sorted_vocab[-i]]))\n",
    "\n",
    "# We can choose to limit the vocab_size here to only a portion of the original vocab,\n",
    "# i.e. ignore infrequent tokens to save on memory\n",
    "vocab_size = VOCAB_SIZE\n",
    "    \n",
    "# Create final vocab\n",
    "word2idx = {w: idx for idx, w in enumerate(sorted_vocab[:vocab_size])}\n",
    "idx2word = {idx: w for idx, w in enumerate(sorted_vocab[:vocab_size])}\n",
    "\n",
    "\n",
    "word2idx[UNK_TOKEN] = vocab_size\n",
    "idx2word[vocab_size] = UNK_TOKEN\n",
    "vocab_size = vocab_size + 1"
   ]
  },
  {
   "cell_type": "markdown",
   "metadata": {},
   "source": [
    "## Filter text based on vocabulary\n",
    "We will now have to replace words we do not have in the vocabulary with a special token, `__unk__` in this case"
   ]
  },
  {
   "cell_type": "code",
   "execution_count": 10,
   "metadata": {},
   "outputs": [
    {
     "name": "stdout",
     "output_type": "stream",
     "text": [
      "Number of tokens filtered out as unknown:\n",
      "Train: 25857/456373\n",
      "Dev: 5369/65997\n",
      "Test: 10660/132329\n"
     ]
    }
   ],
   "source": [
    "train_data = [[t if t in word2idx else UNK_TOKEN for t in instance] for instance in train_data]\n",
    "dev_data = [[t if t in word2idx else UNK_TOKEN for t in instance] for instance in dev_data]\n",
    "test_data = [[t if t in word2idx else UNK_TOKEN for t in instance] for instance in test_data]\n",
    "\n",
    "print(\"Number of tokens filtered out as unknown:\")\n",
    "print(\"Train: %d/%d\"%(len([1 for instance in train_data for t in instance if t == UNK_TOKEN]), sum([len(i) for i in train_data])))\n",
    "print(\"Dev: %d/%d\"%(len([1 for instance in dev_data for t in instance if t == UNK_TOKEN]), sum([len(i) for i in dev_data])))\n",
    "print(\"Test: %d/%d\"%(len([1 for instance in test_data for t in instance if t == UNK_TOKEN]), sum([len(i) for i in test_data])))"
   ]
  },
  {
   "cell_type": "markdown",
   "metadata": {},
   "source": [
    "# Prepare data in tensor form\n",
    "Our keras models finally take tensors as input and labels, so we need to modify our data to fit this form"
   ]
  },
  {
   "cell_type": "code",
   "execution_count": 11,
   "metadata": {},
   "outputs": [],
   "source": [
    "## data_to_tensor\n",
    "# Given a list of instances, where each instance is a list of tokens,\n",
    "# this function does the following:\n",
    "# 1: Replace each token with its corresponding index\n",
    "# 2: Pad sequences to MAX_SEQUENCE_LENGTH (or truncate them if longer)\n",
    "#       Padding is done with a unique element, in this case `vocab_size`\n",
    "#       The network will learn that this unique element is padding and does not\n",
    "#        mean anything semantically\n",
    "# 3: Package everything nicely as a NUM_INSTANCES x MAX_SEQUENCE_LENGTH matrix\n",
    "def data_to_tensor(data):\n",
    "    # First convert from words to indices\n",
    "    idx_data = [[word2idx[t] for t in instance] for instance in data]\n",
    "    \n",
    "    # Create numpy representation\n",
    "    return pad_sequences([np.array(d) for d in idx_data], maxlen=MAX_SEQUENCE_LENGTH, dtype='int32', padding='pre', truncating='pre', value=vocab_size)\n",
    "\n",
    "X_train = data_to_tensor(train_data)\n",
    "y_train = to_categorical(np.array(train_labels, dtype=np.int))\n",
    "\n",
    "X_dev = data_to_tensor(dev_data)\n",
    "y_dev = to_categorical(np.array(dev_labels, dtype=np.int))\n",
    "\n",
    "X_test = data_to_tensor(test_data)\n",
    "y_test = to_categorical(np.array(test_labels, dtype=np.int))\n",
    "\n",
    "vocab_size = vocab_size + 1 # Add 1 for the padding token"
   ]
  },
  {
   "cell_type": "code",
   "execution_count": 12,
   "metadata": {},
   "outputs": [],
   "source": [
    "def idx_to_bow(data):\n",
    "    data_bow = np.zeros((data.shape[0], vocab_size)) \n",
    "    for i in range(data.shape[1]):\n",
    "        data_bow[np.arange(data.shape[0]), data[:, i]] = 1\n",
    "    return data_bow\n",
    "\n",
    "X_train_bow = idx_to_bow(X_train)\n",
    "X_dev_bow = idx_to_bow(X_dev)\n",
    "X_test_bow = idx_to_bow(X_test)"
   ]
  },
  {
   "cell_type": "markdown",
   "metadata": {},
   "source": [
    "# Model Definition"
   ]
  },
  {
   "cell_type": "code",
   "execution_count": 13,
   "metadata": {},
   "outputs": [
    {
     "name": "stderr",
     "output_type": "stream",
     "text": [
      "INFO:plaidml:Opening device \"metal_amd_radeon_pro_560.0\"\n"
     ]
    },
    {
     "name": "stdout",
     "output_type": "stream",
     "text": [
      "_________________________________________________________________\n",
      "Layer (type)                 Output Shape              Param #   \n",
      "=================================================================\n",
      "dense_1 (Dense)              (None, 25)                375075    \n",
      "_________________________________________________________________\n",
      "dense_2 (Dense)              (None, 100)               2600      \n",
      "_________________________________________________________________\n",
      "dense_3 (Dense)              (None, 50)                5050      \n",
      "_________________________________________________________________\n",
      "dense_4 (Dense)              (None, 13)                663       \n",
      "_________________________________________________________________\n",
      "softmax_1 (Softmax)          (None, 13)                0         \n",
      "=================================================================\n",
      "Total params: 383,388\n",
      "Trainable params: 383,388\n",
      "Non-trainable params: 0\n",
      "_________________________________________________________________\n"
     ]
    }
   ],
   "source": [
    "model = Sequential()\n",
    "model.add(Dense(25, input_shape=(vocab_size,), activation='relu'))\n",
    "model.add(Dense(100, activation='relu'))\n",
    "model.add(Dense(50, activation='relu'))\n",
    "model.add(Dense(len(emotions)))\n",
    "model.add(Softmax())\n",
    "model.compile(loss='categorical_crossentropy',\n",
    "              optimizer='adam',\n",
    "              metrics=['acc'])\n",
    "model.summary()"
   ]
  },
  {
   "cell_type": "code",
   "execution_count": 14,
   "metadata": {},
   "outputs": [
    {
     "name": "stdout",
     "output_type": "stream",
     "text": [
      "Train on 28000 samples, validate on 4000 samples\n",
      "Epoch 1/10\n",
      "28000/28000 [==============================] - 27s 972us/step - loss: 1.9975 - acc: 0.3168 - val_loss: 1.8645 - val_acc: 0.3665\n",
      "Epoch 2/10\n",
      "28000/28000 [==============================] - 25s 900us/step - loss: 1.6822 - acc: 0.4341 - val_loss: 1.8950 - val_acc: 0.3620\n",
      "Epoch 3/10\n",
      "28000/28000 [==============================] - 23s 815us/step - loss: 1.3564 - acc: 0.5504 - val_loss: 2.0726 - val_acc: 0.3483\n",
      "Epoch 4/10\n",
      "28000/28000 [==============================] - 23s 807us/step - loss: 1.0364 - acc: 0.6593 - val_loss: 2.3753 - val_acc: 0.3152\n",
      "Epoch 5/10\n",
      "28000/28000 [==============================] - 22s 781us/step - loss: 0.7964 - acc: 0.7405 - val_loss: 2.7789 - val_acc: 0.3225\n",
      "Epoch 6/10\n",
      "28000/28000 [==============================] - 22s 803us/step - loss: 0.6231 - acc: 0.8023 - val_loss: 3.1363 - val_acc: 0.2903\n",
      "Epoch 7/10\n",
      "28000/28000 [==============================] - 23s 821us/step - loss: 0.5079 - acc: 0.8382 - val_loss: 3.6201 - val_acc: 0.2945\n",
      "Epoch 8/10\n",
      "28000/28000 [==============================] - 23s 808us/step - loss: 0.4215 - acc: 0.8680 - val_loss: 4.0697 - val_acc: 0.2928\n",
      "Epoch 9/10\n",
      "28000/28000 [==============================] - 23s 809us/step - loss: 0.3602 - acc: 0.8871 - val_loss: 4.4814 - val_acc: 0.2828\n",
      "Epoch 10/10\n",
      "28000/28000 [==============================] - 22s 803us/step - loss: 0.3146 - acc: 0.9020 - val_loss: 4.8448 - val_acc: 0.2835\n"
     ]
    },
    {
     "data": {
      "text/plain": [
       "<keras.callbacks.History at 0x1a11e3b1d0>"
      ]
     },
     "execution_count": 14,
     "metadata": {},
     "output_type": "execute_result"
    }
   ],
   "source": [
    "model.fit(X_train_bow, y_train, epochs=10, validation_data=(X_dev_bow, y_dev))"
   ]
  },
  {
   "cell_type": "code",
   "execution_count": 15,
   "metadata": {},
   "outputs": [
    {
     "name": "stdout",
     "output_type": "stream",
     "text": [
      "8000/8000 [==============================] - 6s 743us/step\n",
      "Test Set Accuracy: 25.96%\n"
     ]
    }
   ],
   "source": [
    "test_loss, test_acc = model.evaluate(X_test_bow, y_test)\n",
    "print(\"Test Set Accuracy: %0.2f%%\"%(test_acc*100))"
   ]
  },
  {
   "cell_type": "code",
   "execution_count": 16,
   "metadata": {},
   "outputs": [
    {
     "data": {
      "text/plain": [
       "([<matplotlib.axis.YTick at 0x1a12182e80>,\n",
       "  <matplotlib.axis.YTick at 0x1a121719b0>,\n",
       "  <matplotlib.axis.YTick at 0x1a121598d0>,\n",
       "  <matplotlib.axis.YTick at 0x1a122f8828>,\n",
       "  <matplotlib.axis.YTick at 0x1a122ff3c8>,\n",
       "  <matplotlib.axis.YTick at 0x1a12306550>,\n",
       "  <matplotlib.axis.YTick at 0x1a1230de48>,\n",
       "  <matplotlib.axis.YTick at 0x1a122ff5c0>,\n",
       "  <matplotlib.axis.YTick at 0x1a122ddcf8>,\n",
       "  <matplotlib.axis.YTick at 0x1a12310320>,\n",
       "  <matplotlib.axis.YTick at 0x1a1231c1d0>,\n",
       "  <matplotlib.axis.YTick at 0x1a12324c88>,\n",
       "  <matplotlib.axis.YTick at 0x1a1232dba8>],\n",
       " <a list of 13 Text yticklabel objects>)"
      ]
     },
     "execution_count": 16,
     "metadata": {},
     "output_type": "execute_result"
    },
    {
     "data": {
      "image/png": "[encoded data removed]",
      "text/plain": [
       "<Figure size 288x288 with 2 Axes>"
      ]
     },
     "metadata": {},
     "output_type": "display_data"
    }
   ],
   "source": [
    "y_pred = model.predict(X_test_bow)\n",
    "y_pred = np.argmax(y_pred, axis=1)\n",
    "cm = confusion_matrix(np.argmax(y_test, axis=1), y_pred)\n",
    "plt.matshow(cm)\n",
    "plt.colorbar()\n",
    "\n",
    "tick_marks = np.arange(len(emotions))\n",
    "classes = sorted(emotions.keys(), key=lambda x: emotions[x])\n",
    "plt.xticks(tick_marks, classes, rotation=90)\n",
    "plt.yticks(tick_marks, classes)"
   ]
  },
  {
   "cell_type": "code",
   "execution_count": null,
   "metadata": {},
   "outputs": [],
   "source": []
  }
 ],
 "metadata": {
  "kernelspec": {
   "display_name": "Python [conda env:dl4nlp]",
   "language": "python",
   "name": "conda-env-dl4nlp-py"
  },
  "language_info": {
   "codemirror_mode": {
    "name": "ipython",
    "version": 3
   },
   "file_extension": ".py",
   "mimetype": "text/x-python",
   "name": "python",
   "nbconvert_exporter": "python",
   "pygments_lexer": "ipython3",
   "version": "3.6.4"
  }
 },
 "nbformat": 4,
 "nbformat_minor": 2
}
