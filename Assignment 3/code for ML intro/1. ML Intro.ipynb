{
 "cells": [
  {
   "cell_type": "code",
   "execution_count": 162,
   "metadata": {},
   "outputs": [],
   "source": [
    "import pandas as pd\n",
    "import numpy as np\n",
    "from sklearn import svm\n",
    "from sklearn.model_selection import train_test_split\n",
    "from sklearn.metrics import accuracy_score\n",
    "from sklearn.linear_model import LinearRegression\n",
    "from sklearn.preprocessing import LabelEncoder,OneHotEncoder"
   ]
  },
  {
   "cell_type": "code",
   "execution_count": 163,
   "metadata": {},
   "outputs": [
    {
     "data": {
      "text/html": [
       "<div>\n",
       "<style scoped>\n",
       "    .dataframe tbody tr th:only-of-type {\n",
       "        vertical-align: middle;\n",
       "    }\n",
       "\n",
       "    .dataframe tbody tr th {\n",
       "        vertical-align: top;\n",
       "    }\n",
       "\n",
       "    .dataframe thead th {\n",
       "        text-align: right;\n",
       "    }\n",
       "</style>\n",
       "<table border=\"1\" class=\"dataframe\">\n",
       "  <thead>\n",
       "    <tr style=\"text-align: right;\">\n",
       "      <th></th>\n",
       "      <th>0</th>\n",
       "      <th>1</th>\n",
       "    </tr>\n",
       "  </thead>\n",
       "  <tbody>\n",
       "    <tr>\n",
       "      <th>0</th>\n",
       "      <td>لاہور</td>\n",
       "      <td>Location</td>\n",
       "    </tr>\n",
       "    <tr>\n",
       "      <th>1</th>\n",
       "      <td>(</td>\n",
       "      <td>Other</td>\n",
       "    </tr>\n",
       "    <tr>\n",
       "      <th>2</th>\n",
       "      <td>این</td>\n",
       "      <td>Other</td>\n",
       "    </tr>\n",
       "    <tr>\n",
       "      <th>3</th>\n",
       "      <td>این</td>\n",
       "      <td>Other</td>\n",
       "    </tr>\n",
       "    <tr>\n",
       "      <th>4</th>\n",
       "      <td>آئی</td>\n",
       "      <td>Other</td>\n",
       "    </tr>\n",
       "    <tr>\n",
       "      <th>...</th>\n",
       "      <td>...</td>\n",
       "      <td>...</td>\n",
       "    </tr>\n",
       "    <tr>\n",
       "      <th>648745</th>\n",
       "      <td>کو</td>\n",
       "      <td>Other</td>\n",
       "    </tr>\n",
       "    <tr>\n",
       "      <th>648746</th>\n",
       "      <td>حتمی</td>\n",
       "      <td>Other</td>\n",
       "    </tr>\n",
       "    <tr>\n",
       "      <th>648747</th>\n",
       "      <td>شکل</td>\n",
       "      <td>Other</td>\n",
       "    </tr>\n",
       "    <tr>\n",
       "      <th>648748</th>\n",
       "      <td>دے</td>\n",
       "      <td>Other</td>\n",
       "    </tr>\n",
       "    <tr>\n",
       "      <th>648749</th>\n",
       "      <td>گی</td>\n",
       "      <td>Other</td>\n",
       "    </tr>\n",
       "  </tbody>\n",
       "</table>\n",
       "<p>648750 rows × 2 columns</p>\n",
       "</div>"
      ],
      "text/plain": [
       "            0         1\n",
       "0       لاہور  Location\n",
       "1           (     Other\n",
       "2         این     Other\n",
       "3         این     Other\n",
       "4         آئی     Other\n",
       "...       ...       ...\n",
       "648745     کو     Other\n",
       "648746   حتمی     Other\n",
       "648747    شکل     Other\n",
       "648748     دے     Other\n",
       "648749     گی     Other\n",
       "\n",
       "[648750 rows x 2 columns]"
      ]
     },
     "execution_count": 163,
     "metadata": {},
     "output_type": "execute_result"
    }
   ],
   "source": [
    "df1=pd.read_csv('urduDataTrainfold1.txt',header = None,sep = '\\t')\n",
    "df1"
   ]
  },
  {
   "cell_type": "code",
   "execution_count": 164,
   "metadata": {},
   "outputs": [
    {
     "data": {
      "text/html": [
       "<div>\n",
       "<style scoped>\n",
       "    .dataframe tbody tr th:only-of-type {\n",
       "        vertical-align: middle;\n",
       "    }\n",
       "\n",
       "    .dataframe tbody tr th {\n",
       "        vertical-align: top;\n",
       "    }\n",
       "\n",
       "    .dataframe thead th {\n",
       "        text-align: right;\n",
       "    }\n",
       "</style>\n",
       "<table border=\"1\" class=\"dataframe\">\n",
       "  <thead>\n",
       "    <tr style=\"text-align: right;\">\n",
       "      <th></th>\n",
       "      <th>0</th>\n",
       "      <th>1</th>\n",
       "    </tr>\n",
       "  </thead>\n",
       "  <tbody>\n",
       "    <tr>\n",
       "      <th>0</th>\n",
       "      <td>'</td>\n",
       "      <td>Other</td>\n",
       "    </tr>\n",
       "    <tr>\n",
       "      <th>1</th>\n",
       "      <td>ولی‌اللہ</td>\n",
       "      <td>Other</td>\n",
       "    </tr>\n",
       "    <tr>\n",
       "      <th>2</th>\n",
       "      <td>'</td>\n",
       "      <td>Other</td>\n",
       "    </tr>\n",
       "    <tr>\n",
       "      <th>3</th>\n",
       "      <td>پڑھتے</td>\n",
       "      <td>Other</td>\n",
       "    </tr>\n",
       "    <tr>\n",
       "      <th>4</th>\n",
       "      <td>ہی</td>\n",
       "      <td>Other</td>\n",
       "    </tr>\n",
       "    <tr>\n",
       "      <th>...</th>\n",
       "      <td>...</td>\n",
       "      <td>...</td>\n",
       "    </tr>\n",
       "    <tr>\n",
       "      <th>277988</th>\n",
       "      <td>نامور</td>\n",
       "      <td>Other</td>\n",
       "    </tr>\n",
       "    <tr>\n",
       "      <th>277989</th>\n",
       "      <td>ستاروں</td>\n",
       "      <td>Other</td>\n",
       "    </tr>\n",
       "    <tr>\n",
       "      <th>277990</th>\n",
       "      <td>نے</td>\n",
       "      <td>Other</td>\n",
       "    </tr>\n",
       "    <tr>\n",
       "      <th>277991</th>\n",
       "      <td>شرکت</td>\n",
       "      <td>Other</td>\n",
       "    </tr>\n",
       "    <tr>\n",
       "      <th>277992</th>\n",
       "      <td>کی</td>\n",
       "      <td>Other</td>\n",
       "    </tr>\n",
       "  </tbody>\n",
       "</table>\n",
       "<p>277993 rows × 2 columns</p>\n",
       "</div>"
      ],
      "text/plain": [
       "               0      1\n",
       "0              '  Other\n",
       "1       ولی‌اللہ  Other\n",
       "2              '  Other\n",
       "3          پڑھتے  Other\n",
       "4             ہی  Other\n",
       "...          ...    ...\n",
       "277988     نامور  Other\n",
       "277989    ستاروں  Other\n",
       "277990        نے  Other\n",
       "277991      شرکت  Other\n",
       "277992        کی  Other\n",
       "\n",
       "[277993 rows x 2 columns]"
      ]
     },
     "execution_count": 164,
     "metadata": {},
     "output_type": "execute_result"
    }
   ],
   "source": [
    "df2 = pd.read_csv('urduDataTestfold1.txt',sep = '\\t',header = None)\n",
    "df2"
   ]
  },
  {
   "cell_type": "code",
   "execution_count": 166,
   "metadata": {},
   "outputs": [
    {
     "name": "stdout",
     "output_type": "stream",
     "text": [
      "  (0, 16823)\t1.0\n",
      "  (1, 14)\t1.0\n",
      "  (2, 5951)\t1.0\n",
      "  (3, 5951)\t1.0\n",
      "  (4, 2418)\t1.0\n",
      "  (5, 15)\t1.0\n",
      "  (6, 3213)\t1.0\n",
      "  (7, 21012)\t1.0\n",
      "  (8, 15249)\t1.0\n",
      "  (9, 7684)\t1.0\n",
      "  (10, 15208)\t1.0\n",
      "  (11, 15117)\t1.0\n",
      "  (12, 22237)\t1.0\n",
      "  (13, 25549)\t1.0\n",
      "  (14, 14463)\t1.0\n",
      "  (15, 28646)\t1.0\n",
      "  (16, 27484)\t1.0\n",
      "  (17, 6477)\t1.0\n",
      "  (18, 28193)\t1.0\n",
      "  (19, 29001)\t1.0\n",
      "  (20, 27048)\t1.0\n",
      "  (21, 21759)\t1.0\n",
      "  (22, 21300)\t1.0\n",
      "  (23, 27399)\t1.0\n",
      "  (24, 14012)\t1.0\n",
      "  :\t:\n",
      "  (648725, 14153)\t1.0\n",
      "  (648726, 17663)\t1.0\n",
      "  (648727, 9996)\t1.0\n",
      "  (648728, 15562)\t1.0\n",
      "  (648729, 17963)\t1.0\n",
      "  (648730, 27123)\t1.0\n",
      "  (648731, 8940)\t1.0\n",
      "  (648732, 28192)\t1.0\n",
      "  (648733, 2382)\t1.0\n",
      "  (648734, 9100)\t1.0\n",
      "  (648735, 3582)\t1.0\n",
      "  (648736, 27123)\t1.0\n",
      "  (648737, 12986)\t1.0\n",
      "  (648738, 19483)\t1.0\n",
      "  (648739, 28371)\t1.0\n",
      "  (648740, 6850)\t1.0\n",
      "  (648741, 6046)\t1.0\n",
      "  (648742, 26165)\t1.0\n",
      "  (648743, 5825)\t1.0\n",
      "  (648744, 4297)\t1.0\n",
      "  (648745, 26259)\t1.0\n",
      "  (648746, 9817)\t1.0\n",
      "  (648747, 14584)\t1.0\n",
      "  (648748, 11372)\t1.0\n",
      "  (648749, 28192)\t1.0\n"
     ]
    }
   ],
   "source": [
    "train_in=df1.iloc[ : , 0].values  #class pr onehotencoder lgy ga\n",
    "#train_in.reshape(1,-1)\n",
    "train_in = np.array(train_in).reshape((len(train_in), 1))\n",
    "hotencoder = OneHotEncoder()\n",
    "train_in = hotencoder.fit_transform(train_in)\n",
    "print(train_in)"
   ]
  },
  {
   "cell_type": "code",
   "execution_count": 167,
   "metadata": {},
   "outputs": [
    {
     "name": "stdout",
     "output_type": "stream",
     "text": [
      "[2 2 2 ... 2 2 2]\n"
     ]
    }
   ],
   "source": [
    "train_out=df2.iloc[ : , 1 ].values #label pr label encoder lgy ga\n",
    "labelencode = LabelEncoder()\n",
    "train_out = labelencode.fit_transform(train_out)\n",
    "print(train_out)"
   ]
  },
  {
   "cell_type": "code",
   "execution_count": 169,
   "metadata": {},
   "outputs": [
    {
     "name": "stdout",
     "output_type": "stream",
     "text": [
      "  (0, 19031)\t1.0\n",
      "  (1, 27399)\t1.0\n",
      "  (2, 27399)\t1.0\n",
      "  (3, 4083)\t1.0\n",
      "  (4, 19483)\t1.0\n",
      "  (5, 14835)\t1.0\n",
      "  (6, 2382)\t1.0\n",
      "  (7, 3206)\t1.0\n",
      "  (8, 25549)\t1.0\n",
      "  (9, 6684)\t1.0\n",
      "  (10, 12858)\t1.0\n",
      "  (11, 29001)\t1.0\n",
      "  (12, 27142)\t1.0\n",
      "  (13, 29358)\t1.0\n",
      "  (14, 4661)\t1.0\n",
      "  (15, 3560)\t1.0\n",
      "  (16, 21319)\t1.0\n",
      "  (17, 20078)\t1.0\n",
      "  (18, 5951)\t1.0\n",
      "  (19, 4736)\t1.0\n",
      "  (20, 14935)\t1.0\n",
      "  (21, 28237)\t1.0\n",
      "  (22, 2787)\t1.0\n",
      "  (23, 7406)\t1.0\n",
      "  (24, 27123)\t1.0\n",
      "  :\t:\n",
      "  (222369, 22237)\t1.0\n",
      "  (222370, 9817)\t1.0\n",
      "  (222371, 6270)\t1.0\n",
      "  (222372, 3449)\t1.0\n",
      "  (222373, 19483)\t1.0\n",
      "  (222374, 18567)\t1.0\n",
      "  (222375, 2382)\t1.0\n",
      "  (222376, 15746)\t1.0\n",
      "  (222377, 18285)\t1.0\n",
      "  (222378, 25015)\t1.0\n",
      "  (222379, 28089)\t1.0\n",
      "  (222380, 28429)\t1.0\n",
      "  (222381, 3142)\t1.0\n",
      "  (222382, 28994)\t1.0\n",
      "  (222383, 25467)\t1.0\n",
      "  (222384, 20199)\t1.0\n",
      "  (222385, 27399)\t1.0\n",
      "  (222386, 27399)\t1.0\n",
      "  (222387, 22345)\t1.0\n",
      "  (222388, 18)\t1.0\n",
      "  (222389, 26259)\t1.0\n",
      "  (222390, 6237)\t1.0\n",
      "  (222391, 19483)\t1.0\n",
      "  (222392, 15)\t1.0\n",
      "  (222393, 12720)\t1.0\n"
     ]
    }
   ],
   "source": [
    "X_train,X_test, y_train,y_test = train_test_split(train_in[0:277993],train_out,test_size=0.2)\n",
    "X_train = X_train.astype(float)\n",
    "print(X_train)"
   ]
  },
  {
   "cell_type": "code",
   "execution_count": 170,
   "metadata": {},
   "outputs": [],
   "source": [
    "model=svm.SVC()"
   ]
  },
  {
   "cell_type": "code",
   "execution_count": 171,
   "metadata": {},
   "outputs": [],
   "source": [
    "model=model.fit(X_train,y_train)"
   ]
  },
  {
   "cell_type": "code",
   "execution_count": 172,
   "metadata": {},
   "outputs": [],
   "source": [
    "predicted_labels=model.predict(X_test)"
   ]
  },
  {
   "cell_type": "code",
   "execution_count": 173,
   "metadata": {},
   "outputs": [
    {
     "name": "stdout",
     "output_type": "stream",
     "text": [
      "0.9112394107807694\n"
     ]
    }
   ],
   "source": [
    "print(accuracy_score(predicted_labels,y_test))"
   ]
  },
  {
   "cell_type": "code",
   "execution_count": 174,
   "metadata": {},
   "outputs": [],
   "source": [
    "from sklearn.metrics import confusion_matrix"
   ]
  },
  {
   "cell_type": "code",
   "execution_count": 175,
   "metadata": {},
   "outputs": [
    {
     "name": "stdout",
     "output_type": "stream",
     "text": [
      "[[    0     0     2     0]\n",
      " [    0     0     3     0]\n",
      " [ 2008  1000 50664  1920]\n",
      " [    0     0     2     0]]\n"
     ]
    }
   ],
   "source": [
    "print(confusion_matrix(predicted_labels,y_test))"
   ]
  }
 ],
 "metadata": {
  "kernelspec": {
   "display_name": "Python 3",
   "language": "python",
   "name": "python3"
  },
  "language_info": {
   "codemirror_mode": {
    "name": "ipython",
    "version": 3
   },
   "file_extension": ".py",
   "mimetype": "text/x-python",
   "name": "python",
   "nbconvert_exporter": "python",
   "pygments_lexer": "ipython3",
   "version": "3.7.5"
  }
 },
 "nbformat": 4,
 "nbformat_minor": 2
}
