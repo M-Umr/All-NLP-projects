{
 "cells": [
  {
   "cell_type": "markdown",
   "metadata": {},
   "source": [
    "### Import necessary modules"
   ]
  },
  {
   "cell_type": "code",
   "execution_count": 32,
   "metadata": {},
   "outputs": [],
   "source": [
    "# Importing the libraries\n",
    "import numpy as np\n",
    "import matplotlib.pyplot as plt\n",
    "import pandas as pd\n",
    "from sklearn.utils import shuffle\n",
    "from sklearn.preprocessing import LabelEncoder,OneHotEncoder\n",
    "#making corpus or words from comments\n",
    "import re\n",
    "from nltk.stem.porter import PorterStemmer\n",
    "import nltk\n",
    "from sklearn.feature_extraction.text import CountVectorizer\n",
    "from sklearn.model_selection import train_test_split\n",
    "from sklearn.linear_model import LogisticRegression\n",
    "from sklearn.svm import LinearSVC\n",
    "from sklearn.metrics import confusion_matrix\n",
    "from sklearn.metrics import accuracy_score"
   ]
  },
  {
   "cell_type": "markdown",
   "metadata": {},
   "source": [
    "### Dataset"
   ]
  },
  {
   "cell_type": "code",
   "execution_count": 33,
   "metadata": {},
   "outputs": [],
   "source": [
    "dataset = pd.read_csv(\"Urdu-tweet-dataset.tsv\",sep='\\t')"
   ]
  },
  {
   "cell_type": "code",
   "execution_count": 34,
   "metadata": {},
   "outputs": [
    {
     "data": {
      "text/html": [
       "<div>\n",
       "<style scoped>\n",
       "    .dataframe tbody tr th:only-of-type {\n",
       "        vertical-align: middle;\n",
       "    }\n",
       "\n",
       "    .dataframe tbody tr th {\n",
       "        vertical-align: top;\n",
       "    }\n",
       "\n",
       "    .dataframe thead th {\n",
       "        text-align: right;\n",
       "    }\n",
       "</style>\n",
       "<table border=\"1\" class=\"dataframe\">\n",
       "  <thead>\n",
       "    <tr style=\"text-align: right;\">\n",
       "      <th></th>\n",
       "      <th>Tweet</th>\n",
       "      <th>Class</th>\n",
       "    </tr>\n",
       "  </thead>\n",
       "  <tbody>\n",
       "    <tr>\n",
       "      <th>0</th>\n",
       "      <td>میں نے ایٹم بم بنایا ھے ۔۔۔۔او بھائی ایٹم بمب ...</td>\n",
       "      <td>P</td>\n",
       "    </tr>\n",
       "    <tr>\n",
       "      <th>1</th>\n",
       "      <td>چندے سے انقلاب اور عمران خان وزیر اعظم نہیں بن...</td>\n",
       "      <td>N</td>\n",
       "    </tr>\n",
       "    <tr>\n",
       "      <th>2</th>\n",
       "      <td>ٹویٹر کا خیال کیسے آیا ؟</td>\n",
       "      <td>O</td>\n",
       "    </tr>\n",
       "    <tr>\n",
       "      <th>3</th>\n",
       "      <td>سرچ انجن گوگل کے نائب صدر نے فضا میں ، 130,000...</td>\n",
       "      <td>P</td>\n",
       "    </tr>\n",
       "    <tr>\n",
       "      <th>4</th>\n",
       "      <td>ابھی تک اسکی لہریں کبھی کبھی آ جاتی ہیں یار :أْ</td>\n",
       "      <td>P</td>\n",
       "    </tr>\n",
       "  </tbody>\n",
       "</table>\n",
       "</div>"
      ],
      "text/plain": [
       "                                               Tweet Class\n",
       "0  میں نے ایٹم بم بنایا ھے ۔۔۔۔او بھائی ایٹم بمب ...     P\n",
       "1  چندے سے انقلاب اور عمران خان وزیر اعظم نہیں بن...     N\n",
       "2                           ٹویٹر کا خیال کیسے آیا ؟     O\n",
       "3  سرچ انجن گوگل کے نائب صدر نے فضا میں ، 130,000...     P\n",
       "4    ابھی تک اسکی لہریں کبھی کبھی آ جاتی ہیں یار :أْ     P"
      ]
     },
     "execution_count": 34,
     "metadata": {},
     "output_type": "execute_result"
    }
   ],
   "source": [
    "dataset.head()"
   ]
  },
  {
   "cell_type": "code",
   "execution_count": 35,
   "metadata": {},
   "outputs": [
    {
     "name": "stdout",
     "output_type": "stream",
     "text": [
      "1000\n"
     ]
    }
   ],
   "source": [
    "print(len(dataset))"
   ]
  },
  {
   "cell_type": "markdown",
   "metadata": {},
   "source": [
    "#### convert data into 1,0"
   ]
  },
  {
   "cell_type": "code",
   "execution_count": 36,
   "metadata": {},
   "outputs": [],
   "source": [
    "# label selection\n",
    "y=dataset.iloc[:,1].values\n",
    "labelEnocder_y=LabelEncoder()\n",
    "y=labelEnocder_y.fit_transform(y)\n",
    "# 2 postive 0 negative 1 nuetral"
   ]
  },
  {
   "cell_type": "markdown",
   "metadata": {},
   "source": [
    "#### Dataset processing 'Safai'"
   ]
  },
  {
   "cell_type": "code",
   "execution_count": 37,
   "metadata": {},
   "outputs": [],
   "source": [
    "# stopwords removal\n",
    "corpus=[]\n",
    "stopwords=[\"آئی\",\"آئے\",\"آج\",\"آخر\",\"آخرکبر\",\"آدهی\",\"آًب\",\"آٹھ\",\"آیب\",\"اة\",\"اخبزت\",\"اختتبم\",\"ادھر\",\"ارد\",\"اردگرد\",\"ارکبى\",\"اش\",\"اضتعوبل\",\"اضتعوبلات\",\"اضطرذ\",\"اضکب\",\"اضکی\",\"اضکے\",\"اطراف\",\"اغیب\",\"افراد\",\"الگ\",\"اور\",\"اوًچب\",\"اوًچبئی\",\"اوًچی\",\"اوًچے\",\"اى\",\"اً\",\"اًذر\",\"اًہیں\",\"اٹھبًب\",\"اپٌب\",\"اپٌے\",\"اچھب\",\"اچھی\",\"اچھے\",\"اکثر\",\"اکٹھب\",\"اکٹھی\",\"اکٹھے\",\"اکیلا\",\"اکیلی\",\"اکیلے\",\"اگرچہ\",\"اہن\",\"ایطے\",\"ایک\",\"ب\",\"ت\",\"تبزٍ\",\"تت\",\"تر\",\"ترتیت\",\"تریي\",\"تعذاد\",\"تن\",\"تو\",\"توبم\",\"توہی\",\"توہیں\",\"تٌہب\",\"تک\",\"تھب\",\"تھوڑا\",\"تھوڑی\",\"تھوڑے\",\"تھی\",\"تھے\",\"تیي\",\"ثب\",\"ثبئیں\",\"ثبترتیت\",\"ثبری\",\"ثبرے\",\"ثبعث\",\"ثبلا\",\"ثبلترتیت\",\"ثبہر\",\"ثدبئے\",\"ثرآں\",\"ثراں\",\"ثرش\",\"ثعذ\",\"ثغیر\",\"ثلٌذ\",\"ثلٌذوثبلا\",\"ثلکہ\",\"ثي\",\"ثٌب\",\"ثٌبرہب\",\"ثٌبرہی\",\"ثٌبرہے\",\"ثٌبًب\",\"ثٌذ\",\"ثٌذکرو\",\"ثٌذکرًب\",\"ثٌذی\",\"ثڑا\",\"ثڑوں\",\"ثڑی\",\"ثڑے\",\"ثھر\",\"ثھرا\",\"ثھراہوا\",\"ثھرپور\",\"ثھی\",\"ثہت\",\"ثہتر\",\"ثہتری\",\"ثہتریي\",\"ثیچ\",\"ج\",\"خب\",\"خبرہب\",\"خبرہی\",\"خبرہے\",\"خبهوظ\",\"خبًب\",\"خبًتب\",\"خبًتی\",\"خبًتے\",\"خبًٌب\",\"خت\",\"ختن\",\"خجکہ\",\"خص\",\"خططرذ\",\"خلذی\",\"خو\",\"خواى\",\"خوًہی\",\"خوکہ\",\"خٌبة\",\"خگہ\",\"خگہوں\",\"خگہیں\",\"خیطب\",\"خیطبکہ\",\"در\",\"درخبت\",\"درخہ\",\"درخے\",\"درزقیقت\",\"درضت\",\"دش\",\"دفعہ\",\"دلچطپ\",\"دلچطپی\",\"دلچطپیبں\",\"دو\",\"دور\",\"دوراى\",\"دوضرا\",\"دوضروں\",\"دوضری\",\"دوضرے\",\"دوًوں\",\"دکھبئیں\",\"دکھبتب\",\"دکھبتی\",\"دکھبتے\",\"دکھبو\",\"دکھبًب\",\"دکھبیب\",\"دی\",\"دیب\",\"دیتب\",\"دیتی\",\"دیتے\",\"دیر\",\"دیٌب\",\"دیکھو\",\"دیکھٌب\",\"دیکھی\",\"دیکھیں\",\"دے\",\"ر\",\"راضتوں\",\"راضتہ\",\"راضتے\",\"رریعہ\",\"رریعے\",\"رکي\",\"رکھ\",\"رکھب\",\"رکھتب\",\"رکھتبہوں\",\"رکھتی\",\"رکھتے\",\"رکھی\",\"رکھے\",\"رہب\",\"رہی\",\"رہے\",\"ز\",\"زبصل\",\"زبضر\",\"زبل\",\"زبلات\",\"زبلیہ\",\"زصوں\",\"زصہ\",\"زصے\",\"زقبئق\",\"زقیتیں\",\"زقیقت\",\"زکن\",\"زکویہ\",\"زیبدٍ\",\"صبف\",\"صسیر\",\"صفر\",\"صورت\",\"صورتسبل\",\"صورتوں\",\"صورتیں\",\"ض\",\"ضبت\",\"ضبتھ\",\"ضبدٍ\",\"ضبرا\",\"ضبرے\",\"ضبل\",\"ضبلوں\",\"ضت\",\"ضرور\",\"ضرورت\",\"ضروری\",\"ضلطلہ\",\"ضوچ\",\"ضوچب\",\"ضوچتب\",\"ضوچتی\",\"ضوچتے\",\"ضوچو\",\"ضوچٌب\",\"ضوچی\",\"ضوچیں\",\"ضکب\",\"ضکتب\",\"ضکتی\",\"ضکتے\",\"ضکٌب\",\"ضکی\",\"ضکے\",\"ضیذھب\",\"ضیذھی\",\"ضیذھے\",\"ضیکٌڈ\",\"ضے\",\"طرف\",\"طریق\",\"طریقوں\",\"طریقہ\",\"طریقے\",\"طور\",\"طورپر\",\"ظبہر\",\"ع\",\"عذد\",\"عظین\",\"علاقوں\",\"علاقہ\",\"علاقے\",\"علاوٍ\",\"عووهی\",\"غبیذ\",\"غخص\",\"غذ\",\"غروع\",\"غروعبت\",\"غے\",\"فرد\",\"فی\",\"ق\",\"قجل\",\"قجیلہ\",\"قطن\",\"لئے\",\"لا\",\"لازهی\",\"لو\",\"لوجب\",\"لوجی\",\"لوجے\",\"لوسبت\",\"لوسہ\",\"لوگ\",\"لوگوں\",\"لڑکپي\",\"لگتب\",\"لگتی\",\"لگتے\",\"لگٌب\",\"لگی\",\"لگیں\",\"لگے\",\"لی\",\"لیب\",\"لیٌب\",\"لیں\",\"لے\",\"ه\",\"هتعلق\",\"هختلف\",\"هسترم\",\"هسترهہ\",\"هسطوش\",\"هسیذ\",\"هطئلہ\",\"هطئلے\",\"هطبئل\",\"هطتعول\",\"هطلق\",\"هعلوم\",\"هػتول\",\"هلا\",\"هوکي\",\"هوکٌبت\",\"هوکٌہ\",\"هٌبضت\",\"هڑا\",\"هڑًب\",\"هڑے\",\"هکول\",\"هگر\",\"هہرثبى\",\"هیرا\",\"هیری\",\"هیرے\",\"هیں\",\"و\",\"وار\",\"والے\",\"وٍ\",\"ًئی\",\"ًئے\",\"ًب\",\"ًبپطٌذ\",\"ًبگسیر\",\"ًطجت\",\"ًقطہ\",\"ًو\",\"ًوخواى\",\"ًکبلٌب\",\"ًکتہ\",\"ًہ\",\"ًہیں\",\"ًیب\",\"ًے\",\"ٓ آش\",\"ٹھیک\",\"پبئے\",\"پبش\",\"پبًب\",\"پبًچ\",\"پر\",\"پراًب\",\"پطٌذ\",\"پل\",\"پورا\",\"پوچھب\",\"پوچھتب\",\"پوچھتی\",\"پوچھتے\",\"پوچھو\",\"پوچھوں\",\"پوچھٌب\",\"پوچھیں\",\"پچھلا\",\"پھر\",\"پہلا\",\"پہلی\",\"پہلےضی\",\"پہلےضے\",\"پہلےضےہی\",\"پیع\",\"چبر\",\"چبہب\",\"چبہٌب\",\"چبہے\",\"چلا\",\"چلو\",\"چلیں\",\"چلے\",\"چکب\",\"چکی\",\"چکیں\",\"چکے\",\"چھوٹب\",\"چھوٹوں\",\"چھوٹی\",\"چھوٹے\",\"چھہ\",\"چیسیں\",\"ڈھوًڈا\",\"ڈھوًڈلیب\",\"ڈھوًڈو\",\"ڈھوًڈًب\",\"ڈھوًڈی\",\"ڈھوًڈیں\",\"ک\",\"کئی\",\"کئے\",\"کب\",\"کبفی\",\"کبم\",\"کت\",\"کجھی\",\"کرا\",\"کرتب\",\"کرتبہوں\",\"کرتی\",\"کرتے\",\"کرتےہو\",\"کررہب\",\"کررہی\",\"کررہے\",\"کرو\",\"کرًب\",\"کریں\",\"کرے\",\"کطی\",\"کل\",\"کن\",\"کوئی\",\"کوتر\",\"کورا\",\"کوروں\",\"کورٍ\",\"کورے\",\"کوطي\",\"کوى\",\"کوًطب\",\"کوًطی\",\"کوًطے\",\"کھولا\",\"کھولو\",\"کھولٌب\",\"کھولی\",\"کھولیں\",\"کھولے\",\"کہ\",\"کہب\",\"کہتب\",\"کہتی\",\"کہتے\",\"کہو\",\"کہوں\",\"کہٌب\",\"کہی\",\"کہیں\",\"کہے\",\"کی\",\"کیب\",\"کیطب\",\"کیطرف\",\"کیطے\",\"کیلئے\",\"کیوًکہ\",\"کیوں\",\"کیے\",\"کے\",\"کےثعذ\",\"کےرریعے\",\"گئی\",\"گئے\",\"گب\",\"گرد\",\"گروٍ\",\"گروپ\",\"گروہوں\",\"گٌتی\",\"گی\",\"گیب\",\"گے\",\"ہر\",\"ہن\",\"ہو\",\"ہوئی\",\"ہوئے\",\"ہوا\",\"ہوبرا\",\"ہوبری\",\"ہوبرے\",\"ہوتب\",\"ہوتی\",\"ہوتے\",\"ہورہب\",\"ہورہی\",\"ہورہے\",\"ہوضکتب\",\"ہوضکتی\",\"ہوضکتے\",\"ہوًب\",\"ہوًی\",\"ہوًے\",\"ہوچکب\",\"ہوچکی\",\"ہوچکے\",\"ہوگئی\",\"ہوگئے\",\"ہوگیب\",\"ہوں\",\"ہی\",\"ہیں\",\"ہے\",\"ی\",\"یقیٌی\",\"یہ\",\"یہبں\"]\n",
    "for i in range(0,1000):\n",
    "    review = re.sub('[^a-zA-Z]',' ',dataset.iloc[:,0].values[i])\n",
    "    review=review.lower()\n",
    "    review=review.split()\n",
    "    review=[word for word in review if not word in stopwords]\n",
    "    review=' '.join(review)\n",
    "    corpus.append(review)"
   ]
  },
  {
   "cell_type": "markdown",
   "metadata": {},
   "source": [
    "### Unique Vocabulary creation"
   ]
  },
  {
   "cell_type": "code",
   "execution_count": 38,
   "metadata": {},
   "outputs": [],
   "source": [
    "cv=CountVectorizer(max_features=2500)\n",
    "x=cv.fit_transform(corpus).toarray()"
   ]
  },
  {
   "cell_type": "markdown",
   "metadata": {},
   "source": [
    "### train test split and model fitting"
   ]
  },
  {
   "cell_type": "code",
   "execution_count": 53,
   "metadata": {},
   "outputs": [],
   "source": [
    "x_train,x_test,y_train,y_test=train_test_split(x,y,test_size=0.20)\n",
    "\n",
    "classifier1=LogisticRegression()\n",
    "\n",
    "classifier1.fit(x_train,y_train)\n",
    "\n",
    "y_pred1=classifier1.predict(x_test)\n",
    "\n",
    "classifier2=LinearSVC()\n",
    "\n",
    "classifier2.fit(x_train,y_train)\n",
    "\n",
    "y_pred2=classifier2.predict(x_test)"
   ]
  },
  {
   "cell_type": "markdown",
   "metadata": {},
   "source": [
    "#### results evaluation"
   ]
  },
  {
   "cell_type": "code",
   "execution_count": 54,
   "metadata": {},
   "outputs": [
    {
     "data": {
      "text/plain": [
       "array([[ 91,   0,   0],\n",
       "       [  4,   0,   0],\n",
       "       [105,   0,   0]], dtype=int64)"
      ]
     },
     "execution_count": 54,
     "metadata": {},
     "output_type": "execute_result"
    }
   ],
   "source": [
    "cm=confusion_matrix(y_test,y_pred1)\n",
    "cm"
   ]
  },
  {
   "cell_type": "code",
   "execution_count": 55,
   "metadata": {},
   "outputs": [
    {
     "name": "stdout",
     "output_type": "stream",
     "text": [
      "Accuracy is 0.455 \n"
     ]
    }
   ],
   "source": [
    "print('Accuracy is {} '.format(accuracy_score(y_test, y_pred1)))"
   ]
  },
  {
   "cell_type": "code",
   "execution_count": null,
   "metadata": {},
   "outputs": [],
   "source": []
  },
  {
   "cell_type": "code",
   "execution_count": null,
   "metadata": {},
   "outputs": [],
   "source": []
  }
 ],
 "metadata": {
  "kernelspec": {
   "display_name": "Python 3",
   "language": "python",
   "name": "python3"
  },
  "language_info": {
   "codemirror_mode": {
    "name": "ipython",
    "version": 3
   },
   "file_extension": ".py",
   "mimetype": "text/x-python",
   "name": "python",
   "nbconvert_exporter": "python",
   "pygments_lexer": "ipython3",
   "version": "3.7.5"
  }
 },
 "nbformat": 4,
 "nbformat_minor": 2
}
